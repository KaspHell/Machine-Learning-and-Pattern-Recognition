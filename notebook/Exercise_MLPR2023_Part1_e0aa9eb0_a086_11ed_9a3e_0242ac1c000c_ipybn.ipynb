{
  "cells": [
    {
      "cell_type": "markdown",
      "id": "48574939",
      "metadata": {
        "id": "48574939"
      },
      "source": [
        "This is the template for the image recognition exercise. <Br>\n",
        "Some **general instructions**, read these carefully:\n",
        " - The final assignment is returned as a clear and understandable *report*\n",
        "    - define shortly the concepts and explain the phases you use\n",
        "    - use the Markdown feature of the notebook for larger explanations\n",
        " - return your output as a *working* Jupyter notebook\n",
        " - name your file as Exercise_MLPR2023_Partx_uuid.jpynb\n",
        "    - use the uuid code determined below\n",
        "    - use this same code for each part of the assignment\n",
        " - write easily readable code with comments     \n",
        "     - if you exploit code from web, provide a reference\n",
        " - it is ok to discuss with a friend about the assignment. But it is not ok to copy someone's work. Everyone should submit their own implementation\n",
        "     - in case of identical submissions, both submissions are failed "
      ]
    },
    {
      "cell_type": "markdown",
      "id": "0bfbc2b3",
      "metadata": {
        "id": "0bfbc2b3"
      },
      "source": [
        "**Deadlines:**\n",
        "- Part 1: Mon 6.2 at 23:59\n",
        "- Part 2: Mon 20.2 at 23:59\n",
        "- Part 3: Mon 6.3 at 23:59\n",
        "\n",
        "**No extensions for the deadlines** <br>\n",
        "- after each deadline, example results are given, and it is not possible to submit anymore\n",
        "\n",
        "**If you encounter problems, Google first and if you can’t find an answer, ask for help**\n",
        "- Moodle area for questions\n",
        "- pekavir@utu.fi\n",
        "- teacher available for questions\n",
        "    - Monday 30.1 at 14:00-15:00 room 407B Honka (Agora 4th floor)\n",
        "    - Monday 13.2 at 14:00-15:00 room 407B Honka (Agora 4th floor)\n",
        "    - Thursday 2.3 at lecture 10:15-12:00 "
      ]
    },
    {
      "cell_type": "markdown",
      "id": "ea03f4ab",
      "metadata": {
        "id": "ea03f4ab"
      },
      "source": [
        "**Grading**\n",
        "\n",
        "The exercise covers a part of the grading in this course. The course exam has 5 questions, 6 points of each. Exercise gives 6 points, i.e. the total score is 36 points.\n",
        "\n",
        "From the template below, you can see how many exercise points can be acquired from each task. Exam points are given according to the table below: <br>\n",
        "<br>\n",
        "7 exercise points: 1 exam point <br>\n",
        "8 exercise points: 2 exam points <br>\n",
        "9 exercise points: 3 exam points <br>\n",
        "10 exercise points: 4 exam points <br>\n",
        "11 exercise points: 5 exam points <br>\n",
        "12 exercise points: 6 exam points <br>\n",
        "<br>\n",
        "To pass the exercise, you need at least 7 exercise points, and at least 1 exercise point from each Part.\n",
        "    \n",
        "Each student will grade one submission from a peer and their own submission. After each Part deadline, example results are given. Study them carefully and perform the grading according to the given instructions. Mean value from the peer grading and self-grading is used for the final points. "
      ]
    },
    {
      "cell_type": "code",
      "execution_count": null,
      "id": "20913a7e",
      "metadata": {
        "colab": {
          "base_uri": "https://localhost:8080/"
        },
        "id": "20913a7e",
        "outputId": "9f32d671-e2be-47e4-8382-51326ce75f93"
      },
      "outputs": [
        {
          "name": "stdout",
          "output_type": "stream",
          "text": [
            "The id code is: e0aa9eb0-a086-11ed-9a3e-0242ac1c000c\n"
          ]
        }
      ],
      "source": [
        "#import uuid\n",
        "# Run this cell only once and save the code. Use the same id code for each Part.\n",
        "# Printing random id using uuid1()\n",
        "#print (\"The id code is: \",end=\"\")\n",
        "#print (uuid.uuid1())"
      ]
    },
    {
      "cell_type": "markdown",
      "id": "fb9b2c64",
      "metadata": {
        "id": "fb9b2c64"
      },
      "source": [
        "# Part 1"
      ]
    },
    {
      "cell_type": "markdown",
      "id": "41f6c75d",
      "metadata": {
        "id": "41f6c75d"
      },
      "source": [
        "Read the original research article:\n",
        "\n",
        "İ. Çınar and M. Koklu. Identification of rice varieties using machine learning algorithms. Journal of Agricultural Sciences, 28(2):307–325, 2022. doi: 10.15832/ankutbd.862482.\n",
        "\n",
        "https://dergipark.org.tr/en/download/article-file/1513632"
      ]
    },
    {
      "cell_type": "markdown",
      "id": "3ce21d52",
      "metadata": {
        "id": "3ce21d52"
      },
      "source": [
        "## Introduction (1 p)"
      ]
    },
    {
      "cell_type": "markdown",
      "id": "35ca8979",
      "metadata": {
        "id": "35ca8979"
      },
      "source": [
        "Will be written in Part 3"
      ]
    },
    {
      "cell_type": "markdown",
      "id": "6f605da2",
      "metadata": {
        "id": "6f605da2"
      },
      "source": [
        "## Preparations of the data (1 p)"
      ]
    },
    {
      "cell_type": "markdown",
      "id": "bd900472",
      "metadata": {
        "id": "bd900472"
      },
      "source": [
        "Make three folders in your working folder: \"notebooks\", \"data\" and \"training_data\". Save this notebook in \"notebooks\" folder.\n",
        "<br> <br>\n",
        "Perform preparations for the data\n",
        "- import all the packages needed for this notebook in one cell \n",
        "- import the images. Data can be found from (downloading starts as you press the link) https://www.muratkoklu.com/datasets/vtdhnd09.php <br>\n",
        "    - save the data folders \"Arborio\", \"Basmati\" and \"Jasmine\" in \"data\" folder \n",
        "- take a random sample of 100 images from Arborio, Basmati and Jasmine rice species (i.e. 300 images in total) \n",
        "- determine the contour of each rice (you can use e.g. *findContours* from OpenCV) \n",
        "- plot one example image of each rice species, including the contour "
      ]
    },
    {
      "cell_type": "code",
      "execution_count": 3,
      "id": "Xalhq24QQZzE",
      "metadata": {
        "id": "Xalhq24QQZzE"
      },
      "outputs": [
        {
          "ename": "ModuleNotFoundError",
          "evalue": "No module named 'cv2'",
          "output_type": "error",
          "traceback": [
            "\u001b[1;31m---------------------------------------------------------------------------\u001b[0m",
            "\u001b[1;31mModuleNotFoundError\u001b[0m                       Traceback (most recent call last)",
            "\u001b[1;32mc:\\Users\\Kassu\\OneDrive - O365 Turun yliopisto\\Yliopisto\\Kurssit\\Lukuvuosi 22-23\\3. periodi\\Machine Learning and Pattern Recognition\\Exercise\\notebook\\Exercise_MLPR2023_Part1_e0aa9eb0_a086_11ed_9a3e_0242ac1c000c_ipybn.ipynb Cell 11\u001b[0m in \u001b[0;36m<module>\u001b[1;34m\u001b[0m\n\u001b[0;32m      <a href='vscode-notebook-cell:/c%3A/Users/Kassu/OneDrive%20-%20O365%20Turun%20yliopisto/Yliopisto/Kurssit/Lukuvuosi%2022-23/3.%20periodi/Machine%20Learning%20and%20Pattern%20Recognition/Exercise/notebook/Exercise_MLPR2023_Part1_e0aa9eb0_a086_11ed_9a3e_0242ac1c000c_ipybn.ipynb#X13sZmlsZQ%3D%3D?line=2'>3</a>\u001b[0m \u001b[39mimport\u001b[39;00m \u001b[39mpandas\u001b[39;00m \u001b[39mas\u001b[39;00m \u001b[39mpd\u001b[39;00m\n\u001b[0;32m      <a href='vscode-notebook-cell:/c%3A/Users/Kassu/OneDrive%20-%20O365%20Turun%20yliopisto/Yliopisto/Kurssit/Lukuvuosi%2022-23/3.%20periodi/Machine%20Learning%20and%20Pattern%20Recognition/Exercise/notebook/Exercise_MLPR2023_Part1_e0aa9eb0_a086_11ed_9a3e_0242ac1c000c_ipybn.ipynb#X13sZmlsZQ%3D%3D?line=3'>4</a>\u001b[0m \u001b[39mimport\u001b[39;00m \u001b[39mmatplotlib\u001b[39;00m \u001b[39mas\u001b[39;00m \u001b[39mmpl\u001b[39;00m\n\u001b[1;32m----> <a href='vscode-notebook-cell:/c%3A/Users/Kassu/OneDrive%20-%20O365%20Turun%20yliopisto/Yliopisto/Kurssit/Lukuvuosi%2022-23/3.%20periodi/Machine%20Learning%20and%20Pattern%20Recognition/Exercise/notebook/Exercise_MLPR2023_Part1_e0aa9eb0_a086_11ed_9a3e_0242ac1c000c_ipybn.ipynb#X13sZmlsZQ%3D%3D?line=4'>5</a>\u001b[0m \u001b[39mimport\u001b[39;00m \u001b[39mcv2\u001b[39;00m \u001b[39mas\u001b[39;00m \u001b[39mcv\u001b[39;00m\n\u001b[0;32m      <a href='vscode-notebook-cell:/c%3A/Users/Kassu/OneDrive%20-%20O365%20Turun%20yliopisto/Yliopisto/Kurssit/Lukuvuosi%2022-23/3.%20periodi/Machine%20Learning%20and%20Pattern%20Recognition/Exercise/notebook/Exercise_MLPR2023_Part1_e0aa9eb0_a086_11ed_9a3e_0242ac1c000c_ipybn.ipynb#X13sZmlsZQ%3D%3D?line=6'>7</a>\u001b[0m \u001b[39mimport\u001b[39;00m \u001b[39mtensorflow\u001b[39;00m \u001b[39mas\u001b[39;00m \u001b[39mtf\u001b[39;00m\n\u001b[0;32m      <a href='vscode-notebook-cell:/c%3A/Users/Kassu/OneDrive%20-%20O365%20Turun%20yliopisto/Yliopisto/Kurssit/Lukuvuosi%2022-23/3.%20periodi/Machine%20Learning%20and%20Pattern%20Recognition/Exercise/notebook/Exercise_MLPR2023_Part1_e0aa9eb0_a086_11ed_9a3e_0242ac1c000c_ipybn.ipynb#X13sZmlsZQ%3D%3D?line=7'>8</a>\u001b[0m \u001b[39mfrom\u001b[39;00m \u001b[39mtensorflow\u001b[39;00m \u001b[39mimport\u001b[39;00m keras\n",
            "\u001b[1;31mModuleNotFoundError\u001b[0m: No module named 'cv2'"
          ]
        }
      ],
      "source": [
        "import os\n",
        "import numpy as np\n",
        "import pandas as pd\n",
        "import matplotlib as mpl\n",
        "import cv2 as cv\n",
        "\n",
        "import tensorflow as tf\n",
        "from tensorflow import keras\n"
      ]
    },
    {
      "cell_type": "code",
      "execution_count": null,
      "id": "77d3023e",
      "metadata": {},
      "outputs": [],
      "source": []
    },
    {
      "cell_type": "markdown",
      "id": "b8386fd1",
      "metadata": {
        "id": "b8386fd1"
      },
      "source": [
        "## Feature extraction (2 p)"
      ]
    },
    {
      "cell_type": "markdown",
      "id": "83cc994d",
      "metadata": {
        "id": "83cc994d"
      },
      "source": [
        "Gather the feature data <br>\n",
        "<br>\n",
        "Color features (15) <br>\n",
        "- Calculate the following color features for each image, including only the pixels within the contour (you can use e.g. *pointPolygonTest* from OpenCV)\n",
        "    - Mean for each RGB color channel \n",
        "    - Variance for each RGB color channel \n",
        "    - Skewness for each RGB color channel \n",
        "    - Kurtosis for each RGB color channel \n",
        "    - Entropy for each RGB color channel \n",
        "    \n",
        "Dimension features (6) <br>\n",
        "- Fit an ellipse to the contour points (you can use e.g. *fitEllipse* from OpenCV) \n",
        "- Plot one example image of each rice species including the fitted ellipse \n",
        "- Calculate the following features for each image (for details, see the original article)\n",
        "    - the major axis length the ellipse \n",
        "    - the minor axis length of the ellipse \n",
        "    - area inside the contour (you can use e.g. *contourArea* from OpenCV) \n",
        "    - perimeter of the contour (you can use e.g. *arcLength* from OpenCV) \n",
        "    - roundness \n",
        "    - aspect ratio \n",
        "    \n",
        "Gather all the features in one array or dataframe: one data point in one row, including all feature values in columns.  <br>\n",
        "For each data point, include also information of the original image and the label (rice species). Save the data in \"training_data\" folder. "
      ]
    },
    {
      "cell_type": "code",
      "execution_count": null,
      "id": "d7c4e2d1",
      "metadata": {
        "id": "d7c4e2d1"
      },
      "outputs": [],
      "source": []
    }
  ],
  "metadata": {
    "colab": {
      "provenance": []
    },
    "kernelspec": {
      "display_name": "Python 3",
      "language": "python",
      "name": "python3"
    },
    "language_info": {
      "codemirror_mode": {
        "name": "ipython",
        "version": 3
      },
      "file_extension": ".py",
      "mimetype": "text/x-python",
      "name": "python",
      "nbconvert_exporter": "python",
      "pygments_lexer": "ipython3",
      "version": "3.8.1"
    },
    "toc": {
      "base_numbering": 1,
      "nav_menu": {},
      "number_sections": true,
      "sideBar": true,
      "skip_h1_title": false,
      "title_cell": "Table of Contents",
      "title_sidebar": "Contents",
      "toc_cell": false,
      "toc_position": {
        "height": "calc(100% - 180px)",
        "left": "10px",
        "top": "150px",
        "width": "232px"
      },
      "toc_section_display": true,
      "toc_window_display": true
    },
    "vscode": {
      "interpreter": {
        "hash": "09b2770b09d36a02d118b128845e768cc31761db61ee153c447bce8920139026"
      }
    }
  },
  "nbformat": 4,
  "nbformat_minor": 5
}
